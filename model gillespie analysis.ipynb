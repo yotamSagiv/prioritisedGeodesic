{
 "cells": [
  {
   "cell_type": "code",
   "execution_count": 1,
   "metadata": {},
   "outputs": [],
   "source": [
    "import numpy as np\n",
    "import matplotlib.pyplot as plt\n",
    "import matplotlib as mpl\n",
    "from scipy.stats import sem\n",
    "\n",
    "mpl.rcParams.update({'font.size': 25})\n",
    "mpl.rcParams.update({'font.family': 'Arial'})\n",
    "\n",
    "FONT_BG = 25\n",
    "\n",
    "mpl.rcParams['pdf.fonttype'] = 42 # allow text of pdf to be edited in illustrator\n",
    "\n",
    "mpl.rcParams[\"axes.spines.right\"] = False\n",
    "mpl.rcParams[\"axes.spines.top\"] = False\n",
    "\n",
    "from sklearn.linear_model import LinearRegression\n",
    "def line(x, fit):\n",
    "    return x * fit.coef_[0] + fit.intercept_\n",
    "\n",
    "mattar_col = '#279641'\n",
    "model_col = '#16bbc7'\n",
    "data_col = '#c70c15'\n",
    "red_cols = [(0.50, 0, 0), (0.65, 0.1, 0), (0.75, 0.15, 0), (0.85, 0.20, 0)]\n",
    "\n",
    "np.set_printoptions(precision=10, suppress=True)\n",
    "save = False"
   ]
  },
  {
   "cell_type": "markdown",
   "metadata": {},
   "source": [
    "### Analysis"
   ]
  },
  {
   "cell_type": "markdown",
   "metadata": {},
   "source": [
    "*Load the data*"
   ]
  },
  {
   "cell_type": "code",
   "execution_count": 2,
   "metadata": {},
   "outputs": [],
   "source": [
    "d = np.load('./Data/gillespie/GR/GR.npz', allow_pickle=True)\n",
    "\n",
    "prec = d['prec']\n",
    "posto = d['posto']\n",
    "choices = d['choices']\n",
    "rewards = d['rewards']\n",
    "goal_seq = d['goal_seq']\n",
    "num_sessions = d['num_sessions']\n",
    "num_trials = d['num_trials']\n",
    "\n",
    "goal_states = [3, 5, 7, 9, 11, 13, 15, 17]\n",
    "reward_thresh = 15\n",
    "\n",
    "red_cols = [(0.55, 0, 0), (0.65, 0, 0), (0.75, 0, 0), (0.85, 0, 0)]"
   ]
  },
  {
   "cell_type": "markdown",
   "metadata": {},
   "source": [
    "*GR agent: check proportion of replays that are the current goal, over time*"
   ]
  },
  {
   "cell_type": "code",
   "execution_count": 3,
   "metadata": {},
   "outputs": [],
   "source": [
    "res = []\n",
    "raw = []\n",
    "for sess in range(num_sessions):\n",
    "    curr_goal = None\n",
    "    num_trials = goal_seq.shape[1]\n",
    "    num_blocks = 0\n",
    "    reward_visit_counter = 0\n",
    "    goal_replay_counts = []\n",
    "\n",
    "    for i in range(num_trials):\n",
    "        # Check for block change\n",
    "        if curr_goal != goal_seq[sess, i]:\n",
    "            curr_goal = goal_seq[sess, i]\n",
    "            num_blocks += 1\n",
    "        \n",
    "            if i != 0:\n",
    "                goal_replay_counts.append(goal_replay_count)\n",
    "                \n",
    "            goal_replay_count = np.zeros(reward_thresh)\n",
    "            reward_visit_counter = 0\n",
    "\n",
    "        # If rewarded visit, check for post-outcome replay\n",
    "        if rewards[sess, i] == 1:\n",
    "            trial_replay = posto[sess,i]\n",
    "            trial_replay = np.hstack((trial_replay[:, 0], trial_replay[:, 2])) # Splice out action column\n",
    "            \n",
    "            if curr_goal in trial_replay or curr_goal - 1 in trial_replay: # Does the current goal feature anywhere?\n",
    "                goal_replay_count[reward_visit_counter] += 1\n",
    "\n",
    "            reward_visit_counter += 1\n",
    "\n",
    "    del goal_replay_counts[0] # Remove the first block because \"previous goal\" is not well-defined\n",
    "    if reward_visit_counter > 0:\n",
    "        goal_replay_counts.append(goal_replay_count) # Add the last block which doesn't meet the condition\n",
    "\n",
    "    # Stack\n",
    "    goal_replay_counts = np.array(goal_replay_counts)\n",
    "\n",
    "    # Check if proportion goes up over time\n",
    "    x = np.arange(15)\n",
    "    res.append(np.mean(goal_replay_counts, axis=0))\n",
    "    \n",
    "res = np.vstack(res)\n",
    "avg_goal_replay = np.mean(res, axis=0)"
   ]
  },
  {
   "cell_type": "markdown",
   "metadata": {},
   "source": [
    "*Gillespie data: load current goal replay data points, replotted from their paper*"
   ]
  },
  {
   "cell_type": "code",
   "execution_count": 4,
   "metadata": {},
   "outputs": [],
   "source": [
    "y1 = [0.5406301824212272, 0.5439469320066335, 0.6235489220563848, 0.7761194029850746, 0.6666666666666666, 0.7827529021558872, 0.7794361525704809, 1.0281923714759535, 1.1243781094527363, 1.021558872305141, 0.9618573797678276, 1.5422885572139304]\n",
    "y2 = [0.5804311774461028, 0.5306799336650083, 0.5538971807628524, 0.6898839137645107, 0.7230514096185738, 0.8059701492537313, 0.7097844112769486, 0.9220563847429519, 0.8059701492537313, 0.9485903814262023, 1.2470978441127696, 0.8092868988391376]\n",
    "y3 = [0.4676616915422886, 0.30514096185737977, 0.3781094527363184, 0.29519071310116085, 0.39469320066334995, 0.2885572139303483, 0.48756218905472637, 0.417910447761194, 0.5306799336650083, 0.6368159203980099, 0.593698175787728, 0.6799336650082919, 0.9618573797678276, 0.9519071310116086, 0.8258706467661692]\n",
    "y4 = [0.3814262023217247, 0.3482587064676617, 0.23217247097844113, 0.3018242122719735, 0.3117744610281924, 0.3747927031509121, 0.3283582089552239, 0.47761194029850745, 0.4444444444444445, 0.44112769485903813, 0.4709784411276949, 0.41459369817578773, 0.5538971807628524, 0.5970149253731344, 0.5538971807628524]\n",
    "ys = [np.array(y1), np.array(y2), np.array(y3), np.array(y4)]\n",
    "xs = [np.arange(2, 2 + len(ys[i])) for i in range(4)]"
   ]
  },
  {
   "cell_type": "markdown",
   "metadata": {},
   "source": [
    "*GR agent: check how replays decompose in terms of previous block goal, current block goal, and other*"
   ]
  },
  {
   "cell_type": "code",
   "execution_count": 5,
   "metadata": {},
   "outputs": [],
   "source": [
    "res = []\n",
    "for sess in range(num_sessions):\n",
    "    curr_goal = None\n",
    "    prev_goal = None\n",
    "    prev_choice = None\n",
    "\n",
    "    num_trials = goal_seq.shape[1]\n",
    "    num_blocks = 0\n",
    "\n",
    "    reward_visit_counter = 0\n",
    "    replay_counts = np.zeros(4) # Random, current goal, previous goal, previous arm, future arm, other\n",
    "\n",
    "    is_repeat_phase = False\n",
    "    num_counted_trials = 0\n",
    "    for i in range(num_trials):\n",
    "        \n",
    "        # Check for block change\n",
    "        if not curr_goal == goal_seq[sess, i]:\n",
    "            prev_goal = curr_goal\n",
    "            curr_goal = int(goal_seq[sess, i])\n",
    "            num_blocks += 1\n",
    "            is_repeat_phase = False\n",
    "\n",
    "        if rewards[sess, i] == 1:\n",
    "            is_repeat_phase = True\n",
    "\n",
    "        if not is_repeat_phase: # We restrict our attention to repeat phase replay\n",
    "            continue\n",
    "\n",
    "        if num_blocks < 2: # We ignore the first block since there is no previous goal\n",
    "            continue\n",
    "            \n",
    "        if i == 0:\n",
    "            continue\n",
    "            \n",
    "        prev_choice = int(choices[sess, i - 1])\n",
    "        curr_choice = int(choices[sess, i])\n",
    "\n",
    "        # Restrict attention to trials in which the previous choice is the current choice\n",
    "        # is the goal.\n",
    "        if not (goal_states[prev_choice] == curr_goal and prev_choice == curr_choice):\n",
    "            continue\n",
    "\n",
    "        # We have a valid trial, let's analyze it\n",
    "        num_counted_trials += 1\n",
    "        trial_replay = posto[sess, i]\n",
    "        trial_replay = np.hstack((trial_replay[:, 0], trial_replay[:, 2]))\n",
    "        is_other = True\n",
    "\n",
    "        # Did we replay the current goal?\n",
    "        if curr_goal in trial_replay or curr_goal - 1 in trial_replay: \n",
    "            replay_counts[1] += 1\n",
    "            is_other = False\n",
    "\n",
    "        # Did we replay the previous goal?\n",
    "        if prev_goal in trial_replay or prev_goal - 1 in trial_replay:\n",
    "            replay_counts[2] += 1\n",
    "            is_other = False\n",
    "\n",
    "        # Otherwise we replayed some random arm\n",
    "        if is_other:\n",
    "            replay_counts[3] += 1\n",
    "\n",
    "\n",
    "    # Normalize\n",
    "    replay_counts /= num_counted_trials\n",
    "    replay_counts[0] = 1/8 # Uniformly random\n",
    "    replay_counts[-1] /= 6\n",
    "    res.append(replay_counts)\n",
    "\n",
    "gr_comp = np.vstack(res)"
   ]
  },
  {
   "cell_type": "markdown",
   "metadata": {},
   "source": [
    "*Gillespie data: load replay decomposition data points, replotted from their paper*"
   ]
  },
  {
   "cell_type": "code",
   "execution_count": 7,
   "metadata": {},
   "outputs": [],
   "source": [
    "data1 = [0.11033134725871738, 0.11780121398927278, 0.13706917703022312, 0.14565885095254308]\n",
    "data2 = [0.2010553929544678, 0.22474404216407756, 0.2128847219148991, 0.23823329461320578]\n",
    "data3 = [0.11579259211443861, 0.11106082080670485, 0.1055812038039034, 0.09914807236763908]\n",
    "gillespie_data = [1/8, np.mean(data1), np.mean(data2), np.mean(data3)]\n",
    "gillespie_sem = [1/8, sem(data1), sem(data2), sem(data3)]"
   ]
  },
  {
   "cell_type": "markdown",
   "metadata": {},
   "source": [
    "*Q-learning agent: load the data*"
   ]
  },
  {
   "cell_type": "code",
   "execution_count": 12,
   "metadata": {},
   "outputs": [],
   "source": [
    "d = np.load('./Data/gillespie/mattar/Q.npz', allow_pickle=True)\n",
    "\n",
    "posto = d['posto']\n",
    "choices = d['choices']\n",
    "rewards = d['rewards']\n",
    "goal_seq = d['goal_seq']\n",
    "num_sessions = d['num_sessions']\n",
    "num_trials = d['num_trials']\n",
    "\n",
    "goal_states = [3, 5, 7, 9, 11, 13, 15, 17]\n",
    "reward_thresh = 15\n",
    "\n",
    "red_cols = [(0.55, 0, 0), (0.65, 0, 0), (0.75, 0, 0), (0.85, 0, 0)]"
   ]
  },
  {
   "cell_type": "markdown",
   "metadata": {},
   "source": [
    "*Q-learning agent: check proportion of replays that are the current goal, over time*"
   ]
  },
  {
   "cell_type": "code",
   "execution_count": 13,
   "metadata": {},
   "outputs": [],
   "source": [
    "res = []\n",
    "for sess in range(num_sessions):\n",
    "    curr_goal = -1\n",
    "    num_trials = goal_seq.shape[1]\n",
    "    num_blocks = 0\n",
    "    reward_visit_counter = 0\n",
    "    goal_replay_counts = []\n",
    "\n",
    "    for i in range(num_trials):\n",
    "        # Check for block change\n",
    "        if curr_goal != goal_seq[sess,i]:\n",
    "            curr_goal = goal_seq[sess,i]\n",
    "            num_blocks += 1\n",
    "        \n",
    "            if i != 0:\n",
    "                goal_replay_counts.append(goal_replay_count)\n",
    "                \n",
    "            goal_replay_count = np.zeros(reward_thresh)\n",
    "            reward_visit_counter = 0\n",
    "\n",
    "        # If rewarded visit, check for post-outcome replay\n",
    "        if rewards[sess,i] == 1:\n",
    "            trial_replay = posto[sess,i]\n",
    "            trial_replay = np.hstack((trial_replay[:, 0], trial_replay[:, 2]))\n",
    "            \n",
    "            if curr_goal in trial_replay or curr_goal - 1 in trial_replay: # Does the current goal feature anywhere?\n",
    "                goal_replay_count[reward_visit_counter] += 1\n",
    "\n",
    "            reward_visit_counter += 1\n",
    "\n",
    "    del goal_replay_counts[0] # Remove the first one because \"previous goal\" is not well-defined\n",
    "    if reward_visit_counter > 0:\n",
    "        goal_replay_counts.append(goal_replay_count) # Add the last block which doesn't meet the condition\n",
    "\n",
    "    # Stack\n",
    "    goal_replay_counts = np.array(goal_replay_counts)\n",
    "\n",
    "    # Check if proportion goes up over time\n",
    "    x = np.arange(15)\n",
    "    res.append(np.mean(goal_replay_counts, axis=0))\n",
    "\n",
    "    \n",
    "res = np.vstack(res)\n",
    "mattar_avg_goal_replay = np.mean(res, axis=0)"
   ]
  },
  {
   "cell_type": "markdown",
   "metadata": {},
   "source": [
    "*Q-learning agent: check how replays decompose in terms of previous block goal, current block goal, and other*"
   ]
  },
  {
   "cell_type": "code",
   "execution_count": 14,
   "metadata": {},
   "outputs": [],
   "source": [
    "# Decomposition of all replay events\n",
    "res = []\n",
    "for sess in range(num_sessions):\n",
    "    curr_goal = -1\n",
    "    prev_goal = None\n",
    "    prev_choice = None\n",
    "\n",
    "    num_trials = goal_seq.shape[1]\n",
    "    num_blocks = 0\n",
    "\n",
    "    reward_visit_counter = 0\n",
    "    replay_counts = np.zeros(4) # Random, current goal, previous goal, previous arm, future arm, other\n",
    "\n",
    "    is_repeat_phase = False\n",
    "    num_counted_trials = 0\n",
    "    for i in range(num_trials):\n",
    "        \n",
    "        # Check for block change\n",
    "        if not curr_goal == goal_seq[sess, i]:\n",
    "            prev_goal = curr_goal\n",
    "            curr_goal = int(goal_seq[sess, i])\n",
    "            num_blocks += 1\n",
    "            is_repeat_phase = False\n",
    "\n",
    "        if rewards[sess, i] == 1:\n",
    "            is_repeat_phase = True\n",
    "\n",
    "        if not is_repeat_phase: # We restrict our attention to repeat phase replay\n",
    "            continue\n",
    "\n",
    "        if num_blocks < 2: # We ignore the first block since there is no previous goal\n",
    "            continue\n",
    "            \n",
    "        if i == 0:\n",
    "            continue\n",
    "            \n",
    "        prev_choice = int(choices[sess, i - 1])\n",
    "        curr_choice = int(choices[sess, i])\n",
    "\n",
    "        # Restrict attention to trials in which the previous choice is the current choice\n",
    "        # is the goal.\n",
    "        if not (goal_states[prev_choice] == curr_goal and prev_choice == curr_choice):\n",
    "            continue\n",
    "\n",
    "        # We have a valid trial, let's analyze it\n",
    "        num_counted_trials += 1\n",
    "        trial_replay = posto[sess, i]\n",
    "        trial_replay = np.hstack((trial_replay[:, 0], trial_replay[:, 2]))\n",
    "        is_other = True\n",
    "\n",
    "        # Did we replay the current goal?\n",
    "        if curr_goal in trial_replay or curr_goal - 1 in trial_replay: \n",
    "            replay_counts[1] += 1\n",
    "            is_other = False\n",
    "\n",
    "        # Did we replay the previous goal?\n",
    "        if prev_goal in trial_replay or prev_goal - 1 in trial_replay:\n",
    "            replay_counts[2] += 1\n",
    "            is_other = False\n",
    "\n",
    "        # Otherwise we replayed some random arm\n",
    "        if is_other:\n",
    "            replay_counts[3] += 1\n",
    "\n",
    "\n",
    "    # Normalize\n",
    "    replay_counts /= num_counted_trials\n",
    "    replay_counts[0] = 1/8 # Uniformly random\n",
    "    replay_counts[-1] /= 6\n",
    "    res.append(replay_counts)\n",
    "\n",
    "mattar_comp = np.vstack(res)"
   ]
  },
  {
   "cell_type": "markdown",
   "metadata": {},
   "source": [
    "### Plot"
   ]
  },
  {
   "cell_type": "markdown",
   "metadata": {},
   "source": [
    "*Fig 3b: replay decomposition*"
   ]
  },
  {
   "cell_type": "code",
   "execution_count": 15,
   "metadata": {},
   "outputs": [
    {
     "data": {
      "image/png": "[encoded data removed]",
      "text/plain": [
       "<Figure size 1296x432 with 3 Axes>"
      ]
     },
     "metadata": {
      "needs_background": "light"
     },
     "output_type": "display_data"
    }
   ],
   "source": [
    "fig, axes = plt.subplots(1, 3, figsize=(18, 6))\n",
    "BAR_WIDTH = 0.25\n",
    "\n",
    "# Data\n",
    "ax = axes[0]\n",
    "data1 = [0.11033134725871738, 0.11780121398927278, 0.13706917703022312, 0.14565885095254308]\n",
    "data2 = [0.2010553929544678, 0.22474404216407756, 0.2128847219148991, 0.23823329461320578]\n",
    "data3 = [0.11579259211443861, 0.11106082080670485, 0.1055812038039034, 0.09914807236763908]\n",
    "gillespie_data = [1/8, np.mean(data1), np.mean(data2), np.mean(data3)]\n",
    "gillespie_sem = [1/8, sem(data1), sem(data2), sem(data3)]\n",
    "ax.bar(np.arange(4), gillespie_data, color=data_col, label='data', yerr=gillespie_sem,\n",
    "       width=BAR_WIDTH)\n",
    "\n",
    "ax.set_xticks(np.arange(4))\n",
    "ax.set_xticklabels(['random', 'current\\ngoal', 'previous\\ngoal', 'other,\\nper arm'])\n",
    "ax.tick_params(axis='x', which='major', pad=15)\n",
    "ax.legend(frameon=False)\n",
    "ax.set_xlim(0.5, 3.5)\n",
    "ax.axhline(1/8, linestyle='--', color='k')\n",
    "ax.set_ylim(0, 0.7)\n",
    "ax.set_ylabel('fraction of replays')\n",
    "\n",
    "# Mattar\n",
    "ax = axes[1]\n",
    "ax.bar(np.arange(4), np.mean(mattar_comp, axis=0), yerr=sem(mattar_comp, axis=0), label='mattar', \n",
    "       width=BAR_WIDTH, color=mattar_col)\n",
    "ax.set_ylim(0, 0.7)\n",
    "ax.set_xticks(np.arange(4))\n",
    "ax.set_xticklabels(['random', 'current\\ngoal', 'previous\\ngoal', 'other,\\nper arm'])\n",
    "ax.tick_params(axis='x', which='major', pad=15)\n",
    "ax.legend(frameon=False)\n",
    "ax.set_xlim(0.5, 3.5)\n",
    "ax.axhline(1/8, linestyle='--', color='k')\n",
    "ax.set_yticks([])\n",
    "\n",
    "# GR\n",
    "ax = axes[2]\n",
    "ax.bar(np.arange(4), np.mean(gr_comp, axis=0), label='GR', yerr=sem(gr_comp, axis=0),\n",
    "       width=BAR_WIDTH, color=model_col)\n",
    "ax.set_ylim(0, 0.7)\n",
    "ax.set_yticks([])\n",
    "ax.set_xticks(np.arange(4))\n",
    "ax.set_xticklabels(['random', 'current\\ngoal', 'previous\\ngoal', 'other,\\nper arm'])\n",
    "ax.tick_params(axis='x', which='major', pad=15)\n",
    "ax.legend(frameon=False)\n",
    "ax.set_xlim(0.5, 3.5)\n",
    "ax.axhline(1/8, linestyle='--', color='k')\n",
    "\n",
    "fig.savefig('./figs/fig3/replay_decomposition_adjusted.pdf', transparent=True)"
   ]
  },
  {
   "cell_type": "markdown",
   "metadata": {},
   "source": [
    "*Fig 3c: current goal replay over time*"
   ]
  },
  {
   "cell_type": "code",
   "execution_count": 16,
   "metadata": {},
   "outputs": [
    {
     "data": {
      "image/png": "[encoded data removed]",
      "text/plain": [
       "<Figure size 1296x432 with 3 Axes>"
      ]
     },
     "metadata": {
      "needs_background": "light"
     },
     "output_type": "display_data"
    }
   ],
   "source": [
    "fig, axes = plt.subplots(1, 3, figsize=(18, 6))\n",
    "\n",
    "# Data\n",
    "ax = axes[0]\n",
    "y1 = [0.5406301824212272, 0.5439469320066335, 0.6235489220563848, 0.7761194029850746, 0.6666666666666666, 0.7827529021558872, 0.7794361525704809, 1.0281923714759535, 1.1243781094527363, 1.021558872305141, 0.9618573797678276, 1.5422885572139304]\n",
    "y2 = [0.5804311774461028, 0.5306799336650083, 0.5538971807628524, 0.6898839137645107, 0.7230514096185738, 0.8059701492537313, 0.7097844112769486, 0.9220563847429519, 0.8059701492537313, 0.9485903814262023, 1.2470978441127696, 0.8092868988391376]\n",
    "y3 = [0.4676616915422886, 0.30514096185737977, 0.3781094527363184, 0.29519071310116085, 0.39469320066334995, 0.2885572139303483, 0.48756218905472637, 0.417910447761194, 0.5306799336650083, 0.6368159203980099, 0.593698175787728, 0.6799336650082919, 0.9618573797678276, 0.9519071310116086, 0.8258706467661692]\n",
    "y4 = [0.3814262023217247, 0.3482587064676617, 0.23217247097844113, 0.3018242122719735, 0.3117744610281924, 0.3747927031509121, 0.3283582089552239, 0.47761194029850745, 0.4444444444444445, 0.44112769485903813, 0.4709784411276949, 0.41459369817578773, 0.5538971807628524, 0.5970149253731344, 0.5538971807628524]\n",
    "ys = [np.array(y1), np.array(y2), np.array(y3), np.array(y4)]\n",
    "xs = [np.arange(2, 2 + len(ys[i])) for i in range(4)]\n",
    "\n",
    "for i in range(4):\n",
    "    ax.scatter(np.arange(2, 2 + len(ys[i])), ys[i], color=red_cols[i], alpha=0.3)\n",
    "\n",
    "ax.set_ylabel('current goal replay rate', labelpad=14)\n",
    "ax.set_ylim(0, 2)\n",
    "ax.set_xlim(0, 17.2)\n",
    "\n",
    "X = np.hstack(xs)\n",
    "Y = np.hstack(ys)\n",
    "\n",
    "gillespie_fit = LinearRegression().fit(X.reshape(-1, 1), Y)\n",
    "ax.plot(np.arange(30), line(np.arange(30), gillespie_fit), color=(0.75, 0, 0), label='data')\n",
    "ax.legend(frameon=False)\n",
    "ax.set_xticks(np.arange(0, 20, 5))\n",
    "ax.set_xticklabels([0, 5, 10, 15])\n",
    "\n",
    "# Mattar\n",
    "ax = axes[1]\n",
    "ax.scatter(x[2:], mattar_avg_goal_replay[2:], color=mattar_col, alpha=0.3)\n",
    "ax.set_xlabel('rewarded visit #', labelpad=14)\n",
    "ax.set_ylim(0, 1)\n",
    "ax.set_ylabel('current goal replay probability', labelpad=14)\n",
    "ax.set_xlim(0, 17.2)\n",
    "ax.set_xticks(np.arange(0, 20, 5))\n",
    "ax.set_xticklabels([0, 5, 10, 15])\n",
    "\n",
    "# Overlay linear regression fit\n",
    "mattar_fit = LinearRegression().fit(x[2:].reshape(-1, 1), mattar_avg_goal_replay[2:])\n",
    "\n",
    "ax.plot(np.arange(30), line(np.arange(30), mattar_fit), color=mattar_col, label='mattar')\n",
    "ax.legend(frameon=False)\n",
    "\n",
    "# GR\n",
    "ax = axes[2]\n",
    "ax.scatter(x[2:], avg_goal_replay[2:], color=(0, 0.6, 0.7), alpha=0.3)\n",
    "ax.set_ylim(0, 1)\n",
    "ax.set_xlim(0, 17.2)\n",
    "ax.set_xticks(np.arange(0, 20, 5))\n",
    "ax.set_xticklabels([0, 5, 10, 15])\n",
    "ax.set_yticks([])\n",
    "\n",
    "# Overlay linear regression fit\n",
    "fit = LinearRegression().fit(x[2:].reshape(-1, 1), avg_goal_replay[2:])\n",
    "\n",
    "ax.plot(np.arange(30), line(np.arange(30), fit), color=(0, 0.6, 0.7), label='GR')\n",
    "ax.legend(frameon=False)\n",
    "plt.subplots_adjust(wspace=0.3)\n",
    "fig.savefig('./figs/fig3/curr_goal_replay_adjusted.pdf', transparent=True)"
   ]
  }
 ],
 "metadata": {
  "kernelspec": {
   "display_name": "Python 3 (ipykernel)",
   "language": "python",
   "name": "python3"
  },
  "language_info": {
   "codemirror_mode": {
    "name": "ipython",
    "version": 3
   },
   "file_extension": ".py",
   "mimetype": "text/x-python",
   "name": "python",
   "nbconvert_exporter": "python",
   "pygments_lexer": "ipython3",
   "version": "3.9.6"
  }
 },
 "nbformat": 4,
 "nbformat_minor": 2
}
